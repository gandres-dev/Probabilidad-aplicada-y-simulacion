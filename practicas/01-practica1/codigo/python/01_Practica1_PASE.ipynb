{
  "nbformat": 4,
  "nbformat_minor": 0,
  "metadata": {
    "colab": {
      "name": "01-Practica1-PASE.ipynb",
      "provenance": [],
      "collapsed_sections": []
    },
    "kernelspec": {
      "name": "python3",
      "display_name": "Python 3"
    },
    "language_info": {
      "name": "python"
    }
  },
  "cells": [
    {
      "cell_type": "markdown",
      "source": [
        "# Practica 1 Matriz de Hilbert y Regla de Simpson"
      ],
      "metadata": {
        "id": "qBfQqMGvQeJV"
      }
    },
    {
      "cell_type": "code",
      "execution_count": 1,
      "metadata": {
        "id": "CA_kZgGKQSib"
      },
      "outputs": [],
      "source": [
        "import numpy as np\n",
        "import sympy as sp\n",
        "import scipy\n",
        "\n",
        "def obtener_matriz_Hilbert(n: int):\n",
        "    \"\"\"Obtiene una matriz de Hilbert de orden n.\n",
        "\n",
        "    Con entradas h[i,j] = 1/(i+j+1)\n",
        "\n",
        "    Parametros\n",
        "    ---------\n",
        "    n: int\n",
        "        Indica la dimensionalida de matriz nxn\n",
        "\n",
        "    Regresa\n",
        "    ---------\n",
        "    matriz_hilbert: (n, n) ndarry\n",
        "        Regresa una matriz de Hilbert\n",
        "    \"\"\"\n",
        "    matriz_hilbert = np.zeros((n,n), dtype='float32')\n",
        "    for i in range(1, n+1):\n",
        "        for j in range(1, n+1):\n",
        "            Hij = 1 / (i + j -1)\n",
        "            matriz_hilbert[i-1, j-1] = Hij\n",
        "    return matriz_hilbert"
      ]
    },
    {
      "cell_type": "code",
      "source": [
        "sp.Matrix(obtener_matriz_Hilbert(5))\n",
        "\n",
        "# Comprobacion\n",
        "#scipy.linalg.hilbert(5)"
      ],
      "metadata": {
        "colab": {
          "base_uri": "https://localhost:8080/",
          "height": 119
        },
        "id": "qmsECZTHThev",
        "outputId": "79ca59e1-69be-4f9c-e029-5f06414202ab"
      },
      "execution_count": 10,
      "outputs": [
        {
          "output_type": "execute_result",
          "data": {
            "text/plain": [
              "Matrix([\n",
              "[     1.0,      0.5, 0.333333,     0.25,      0.2],\n",
              "[     0.5, 0.333333,     0.25,      0.2, 0.166667],\n",
              "[0.333333,     0.25,      0.2, 0.166667, 0.142857],\n",
              "[    0.25,      0.2, 0.166667, 0.142857,    0.125],\n",
              "[     0.2, 0.166667, 0.142857,    0.125, 0.111111]])"
            ],
            "text/latex": "$\\displaystyle \\left[\\begin{matrix}1.0 & 0.5 & 0.333333 & 0.25 & 0.2\\\\0.5 & 0.333333 & 0.25 & 0.2 & 0.166667\\\\0.333333 & 0.25 & 0.2 & 0.166667 & 0.142857\\\\0.25 & 0.2 & 0.166667 & 0.142857 & 0.125\\\\0.2 & 0.166667 & 0.142857 & 0.125 & 0.111111\\end{matrix}\\right]$"
          },
          "metadata": {},
          "execution_count": 10
        }
      ]
    },
    {
      "cell_type": "markdown",
      "source": [
        "# Matriz inversa"
      ],
      "metadata": {
        "id": "mlUzY8zZbZ8F"
      }
    },
    {
      "cell_type": "code",
      "source": [
        "# Encontrando n tal que se pueda encontrar la inversa de H\n",
        "for i in range(1, 20):\n",
        "    H = obtener_matriz_Hilbert(i)\n",
        "    det = np.linalg.det(H)\n",
        "    if det == 0:\n",
        "        print(i)\n",
        "        break"
      ],
      "metadata": {
        "colab": {
          "base_uri": "https://localhost:8080/"
        },
        "id": "A36u-oQdVdBU",
        "outputId": "12f63fc0-4d7d-4c6f-f061-bdae62678c20"
      },
      "execution_count": 3,
      "outputs": [
        {
          "output_type": "stream",
          "name": "stdout",
          "text": [
            "10\n"
          ]
        }
      ]
    },
    {
      "cell_type": "code",
      "source": [
        "from scipy.special import binom\n",
        "\n",
        "def obtener_inversa_hilbert(n):\n",
        "    \"\"\"Obtiene la inversa de la matriz de Hilbert\n",
        "\n",
        "    Parametros\n",
        "    ---------\n",
        "    n: int\n",
        "        Indica la dimensionalida de matriz nxn\n",
        "\n",
        "    Regresa\n",
        "    ---------\n",
        "    inversa_hilbert: ndarry\n",
        "        Regresa la inversa de la matriz de Hilbert\n",
        "    \"\"\"\n",
        "    inversa_hilbert = np.zeros((n,n), dtype='float32')\n",
        "    for i in range(1, n+1):\n",
        "        for j in range(1, n+1):\n",
        "            H_ij_1 = (-1)**(i+j) * (i+j-1) * binom(n+i-1, n-j) * binom(n+j-1,n-i) *binom(i+j-2,i-1)**2\n",
        "            inversa_hilbert[i-1, j-1] = H_ij_1\n",
        "    return inversa_hilbert"
      ],
      "metadata": {
        "id": "nrajCA4PXQ-R"
      },
      "execution_count": 4,
      "outputs": []
    },
    {
      "cell_type": "code",
      "source": [
        "sp.Matrix(obtener_inversa_hilbert(5))\n",
        "\n",
        "# Comprobación\n",
        "# np.linalg.inv(scipy.linalg.hilbert(5))"
      ],
      "metadata": {
        "colab": {
          "base_uri": "https://localhost:8080/",
          "height": 119
        },
        "id": "HM1oyJ5rkeY8",
        "outputId": "db27e9ee-5590-4b88-b6c5-e868ffc82445"
      },
      "execution_count": 9,
      "outputs": [
        {
          "output_type": "execute_result",
          "data": {
            "text/plain": [
              "Matrix([\n",
              "[   25.0,   -300.0,    1050.0,   -1400.0,    630.0],\n",
              "[ -300.0,   4800.0,  -18900.0,   26880.0, -12600.0],\n",
              "[ 1050.0, -18900.0,   79380.0, -117600.0,  56700.0],\n",
              "[-1400.0,  26880.0, -117600.0,  179200.0, -88200.0],\n",
              "[  630.0, -12600.0,   56700.0,  -88200.0,  44100.0]])"
            ],
            "text/latex": "$\\displaystyle \\left[\\begin{matrix}25.0 & -300.0 & 1050.0 & -1400.0 & 630.0\\\\-300.0 & 4800.0 & -18900.0 & 26880.0 & -12600.0\\\\1050.0 & -18900.0 & 79380.0 & -117600.0 & 56700.0\\\\-1400.0 & 26880.0 & -117600.0 & 179200.0 & -88200.0\\\\630.0 & -12600.0 & 56700.0 & -88200.0 & 44100.0\\end{matrix}\\right]$"
          },
          "metadata": {},
          "execution_count": 9
        }
      ]
    }
  ]
}