{
 "cells": [
  {
   "cell_type": "code",
   "execution_count": 127,
   "id": "4319edc8",
   "metadata": {},
   "outputs": [],
   "source": [
    "import numpy as np\n",
    "import matplotlib.pyplot as plt\n",
    "from ipythonblocks import BlockGrid"
   ]
  },
  {
   "cell_type": "markdown",
   "id": "1f002d33",
   "metadata": {},
   "source": [
    "# Aplicación de MCMC\n",
    "_Elaborado por: Andrés Urbano Guillermo Gerardo_\n",
    "\n",
    "Las técnias de Monte Carlo vía cadenas de Markov permiten generar, de menera iterativa, observaciones de distribuciones multivariadas que difícilmente podrían simularse. \n",
    "\n",
    "La idea básica es construir una cadena de Markov que sea fácil de simular y cuya distribución estacionaria corresponda a la distribución objetivo que nos interesa. De esta manera, al implementar correctamente el algoritmo, la convergencia de la cadena está garantizada, independientemente de cuáles sean los valores iniciales.\n",
    "\n",
    "Las ideas de esta técnica han tenido su desarrollo histórico desde diferentes ramas de las matematicas: de la probabilidad, de la mecánica estadística y de la estadística bayesiana. Cada enfoque tiene su utilidad conceptual y de implementación, y se enriquecen entre ellos.\n"
   ]
  },
  {
   "cell_type": "markdown",
   "id": "8e0112d5",
   "metadata": {},
   "source": [
    "## Instrucciones\n",
    "\n",
    "Considere un tablero de $8\\times8$; una configuración del tablero es una asignación de colores (blanco y negro)\n",
    "en las casillas (C : \\{1, 2, . . . , 64\\} → {0, 1}).\n",
    "\n",
    "Decimos que la configuración es aceptable si no hay dos cuadritos\n",
    "adyacentes de color negro (por ejemplo, un cuadrito genérico tiene 4 cuadritos adyacentes y cada esquina tiene dos cuadritos adyacentes).\n",
    "\n",
    "Trabajaremos con el espacio de estados C que reúne a todas las configuraciones aceptables. Considere\n",
    "una caminata aleatoria $(X_n)n \\geq 0$ con espacio de estados en C que satisface:\n",
    "\n",
    "\n",
    "- La configuración inicial $X_0$ tiene todos los cuadritos blancos.\n",
    "- Dado que conocemos $X_n$, construimos $X_{n+1}$ de la siguiente forma:\n",
    "    1.  Elige una casilla c uniformemente al azar y lanza una moneda justa.\n",
    "    1. Si la moneda sale águila entonces $X_{n+1} = X_n$.\n",
    "    1.  Si la moneda sale sol entonces intercambiamos el color de la casilla c (de blanco a negro o viceversa) y, sólo si esto genera una configuración aceptable, ésta es la siguiente configuración $X_{n+1}$.\n",
    "    1.  en otro caso hacemos $X_{n+1} = X_n$."
   ]
  },
  {
   "cell_type": "markdown",
   "id": "b6c3a68a",
   "metadata": {},
   "source": [
    "## Implementación"
   ]
  },
  {
   "cell_type": "code",
   "execution_count": 53,
   "id": "9f1fb372",
   "metadata": {},
   "outputs": [],
   "source": [
    "def lanzar_moneda() -> str:\n",
    "    \"\"\"Simula el lanzamiento de un volado\"\"\"\n",
    "    moneda = \"sol\" if np.random.binomial(1, 0.5) else \"aguila\"\n",
    "    return moneda\n",
    "\n",
    "def es_aceptable(tablero: 'GridBlock', casilla: tuple) -> bool:\n",
    "    \"\"\"Verifica que sea una configuracion aceptable\"\"\"                    \n",
    "    negro = (0, 0, 0)\n",
    "    # Vericamos las casilla adyacentes (izq, der, abajo, arriba)\n",
    "    if casilla[1] > 0 and tablero[casilla[0], casilla[1]-1].rgb == negro:\n",
    "        return False\n",
    "    elif casilla[1] < 7 and tablero[casilla[0], casilla[1]+1].rgb == negro:\n",
    "        return False\n",
    "    elif casilla[0] > 0 and tablero[casilla[0]-1, casilla[1]].rgb == negro:\n",
    "        return False\n",
    "    elif casilla[0] < 7 and tablero[casilla[0]+1, casilla[1]].rgb == negro:\n",
    "        return False\n",
    "    return True    "
   ]
  },
  {
   "cell_type": "code",
   "execution_count": 122,
   "id": "b65de394",
   "metadata": {},
   "outputs": [],
   "source": [
    "def simulacion(tablero: 'GridBlock', n: int, blanco: tuple, time=None) -> int:\n",
    "    \"\"\"Realiza la simulacion de una cadena de markov utilizando el Algoritmo Metrópolis Hastings\"\"\"\n",
    "    cuadros_negros = 0\n",
    "    for i in range(n):\n",
    "        modena = lanzar_moneda()\n",
    "        casilla_azar = np.random.randint(0,8), np.random.randint(0,8)\n",
    "        if modena == 'sol' and es_aceptable(tablero, casilla_azar):              \n",
    "            # Intercambiar color\n",
    "            if tablero[casilla_azar].rgb == blanco:\n",
    "                tablero[casilla_azar] = (0, 0, 0)\n",
    "                cuadros_negros += 1\n",
    "            else:\n",
    "                tablero[casilla_azar] = blanco\n",
    "                cuadros_negros -= 1\n",
    "        if time is not None:\n",
    "            tablero.flash(display_time=time)\n",
    "    return cuadros_negros"
   ]
  },
  {
   "cell_type": "code",
   "execution_count": 145,
   "id": "3dbd6f13",
   "metadata": {},
   "outputs": [
    {
     "data": {
      "text/html": [
       "<style type=\"text/css\">table.blockgrid {border: none;} .blockgrid tr {border: none;} .blockgrid td {padding: 0px;} #blocksaa897836-885c-453b-a424-24b318b6f645 td {border: 1px solid white;}</style><table id=\"blocksaa897836-885c-453b-a424-24b318b6f645\" class=\"blockgrid\"><tbody><tr><td title=\"Index: [0, 0]&#10;Color: (237, 237, 237)\" style=\"width: 45px; height: 45px;background-color: rgb(237, 237, 237);\"></td><td title=\"Index: [0, 1]&#10;Color: (237, 237, 237)\" style=\"width: 45px; height: 45px;background-color: rgb(237, 237, 237);\"></td><td title=\"Index: [0, 2]&#10;Color: (0, 0, 0)\" style=\"width: 45px; height: 45px;background-color: rgb(0, 0, 0);\"></td><td title=\"Index: [0, 3]&#10;Color: (237, 237, 237)\" style=\"width: 45px; height: 45px;background-color: rgb(237, 237, 237);\"></td><td title=\"Index: [0, 4]&#10;Color: (0, 0, 0)\" style=\"width: 45px; height: 45px;background-color: rgb(0, 0, 0);\"></td><td title=\"Index: [0, 5]&#10;Color: (237, 237, 237)\" style=\"width: 45px; height: 45px;background-color: rgb(237, 237, 237);\"></td><td title=\"Index: [0, 6]&#10;Color: (0, 0, 0)\" style=\"width: 45px; height: 45px;background-color: rgb(0, 0, 0);\"></td><td title=\"Index: [0, 7]&#10;Color: (237, 237, 237)\" style=\"width: 45px; height: 45px;background-color: rgb(237, 237, 237);\"></td></tr><tr><td title=\"Index: [1, 0]&#10;Color: (237, 237, 237)\" style=\"width: 45px; height: 45px;background-color: rgb(237, 237, 237);\"></td><td title=\"Index: [1, 1]&#10;Color: (0, 0, 0)\" style=\"width: 45px; height: 45px;background-color: rgb(0, 0, 0);\"></td><td title=\"Index: [1, 2]&#10;Color: (237, 237, 237)\" style=\"width: 45px; height: 45px;background-color: rgb(237, 237, 237);\"></td><td title=\"Index: [1, 3]&#10;Color: (237, 237, 237)\" style=\"width: 45px; height: 45px;background-color: rgb(237, 237, 237);\"></td><td title=\"Index: [1, 4]&#10;Color: (237, 237, 237)\" style=\"width: 45px; height: 45px;background-color: rgb(237, 237, 237);\"></td><td title=\"Index: [1, 5]&#10;Color: (0, 0, 0)\" style=\"width: 45px; height: 45px;background-color: rgb(0, 0, 0);\"></td><td title=\"Index: [1, 6]&#10;Color: (237, 237, 237)\" style=\"width: 45px; height: 45px;background-color: rgb(237, 237, 237);\"></td><td title=\"Index: [1, 7]&#10;Color: (237, 237, 237)\" style=\"width: 45px; height: 45px;background-color: rgb(237, 237, 237);\"></td></tr><tr><td title=\"Index: [2, 0]&#10;Color: (237, 237, 237)\" style=\"width: 45px; height: 45px;background-color: rgb(237, 237, 237);\"></td><td title=\"Index: [2, 1]&#10;Color: (237, 237, 237)\" style=\"width: 45px; height: 45px;background-color: rgb(237, 237, 237);\"></td><td title=\"Index: [2, 2]&#10;Color: (237, 237, 237)\" style=\"width: 45px; height: 45px;background-color: rgb(237, 237, 237);\"></td><td title=\"Index: [2, 3]&#10;Color: (237, 237, 237)\" style=\"width: 45px; height: 45px;background-color: rgb(237, 237, 237);\"></td><td title=\"Index: [2, 4]&#10;Color: (0, 0, 0)\" style=\"width: 45px; height: 45px;background-color: rgb(0, 0, 0);\"></td><td title=\"Index: [2, 5]&#10;Color: (237, 237, 237)\" style=\"width: 45px; height: 45px;background-color: rgb(237, 237, 237);\"></td><td title=\"Index: [2, 6]&#10;Color: (237, 237, 237)\" style=\"width: 45px; height: 45px;background-color: rgb(237, 237, 237);\"></td><td title=\"Index: [2, 7]&#10;Color: (237, 237, 237)\" style=\"width: 45px; height: 45px;background-color: rgb(237, 237, 237);\"></td></tr><tr><td title=\"Index: [3, 0]&#10;Color: (0, 0, 0)\" style=\"width: 45px; height: 45px;background-color: rgb(0, 0, 0);\"></td><td title=\"Index: [3, 1]&#10;Color: (237, 237, 237)\" style=\"width: 45px; height: 45px;background-color: rgb(237, 237, 237);\"></td><td title=\"Index: [3, 2]&#10;Color: (0, 0, 0)\" style=\"width: 45px; height: 45px;background-color: rgb(0, 0, 0);\"></td><td title=\"Index: [3, 3]&#10;Color: (237, 237, 237)\" style=\"width: 45px; height: 45px;background-color: rgb(237, 237, 237);\"></td><td title=\"Index: [3, 4]&#10;Color: (237, 237, 237)\" style=\"width: 45px; height: 45px;background-color: rgb(237, 237, 237);\"></td><td title=\"Index: [3, 5]&#10;Color: (0, 0, 0)\" style=\"width: 45px; height: 45px;background-color: rgb(0, 0, 0);\"></td><td title=\"Index: [3, 6]&#10;Color: (237, 237, 237)\" style=\"width: 45px; height: 45px;background-color: rgb(237, 237, 237);\"></td><td title=\"Index: [3, 7]&#10;Color: (0, 0, 0)\" style=\"width: 45px; height: 45px;background-color: rgb(0, 0, 0);\"></td></tr><tr><td title=\"Index: [4, 0]&#10;Color: (237, 237, 237)\" style=\"width: 45px; height: 45px;background-color: rgb(237, 237, 237);\"></td><td title=\"Index: [4, 1]&#10;Color: (237, 237, 237)\" style=\"width: 45px; height: 45px;background-color: rgb(237, 237, 237);\"></td><td title=\"Index: [4, 2]&#10;Color: (237, 237, 237)\" style=\"width: 45px; height: 45px;background-color: rgb(237, 237, 237);\"></td><td title=\"Index: [4, 3]&#10;Color: (0, 0, 0)\" style=\"width: 45px; height: 45px;background-color: rgb(0, 0, 0);\"></td><td title=\"Index: [4, 4]&#10;Color: (237, 237, 237)\" style=\"width: 45px; height: 45px;background-color: rgb(237, 237, 237);\"></td><td title=\"Index: [4, 5]&#10;Color: (237, 237, 237)\" style=\"width: 45px; height: 45px;background-color: rgb(237, 237, 237);\"></td><td title=\"Index: [4, 6]&#10;Color: (237, 237, 237)\" style=\"width: 45px; height: 45px;background-color: rgb(237, 237, 237);\"></td><td title=\"Index: [4, 7]&#10;Color: (237, 237, 237)\" style=\"width: 45px; height: 45px;background-color: rgb(237, 237, 237);\"></td></tr><tr><td title=\"Index: [5, 0]&#10;Color: (237, 237, 237)\" style=\"width: 45px; height: 45px;background-color: rgb(237, 237, 237);\"></td><td title=\"Index: [5, 1]&#10;Color: (237, 237, 237)\" style=\"width: 45px; height: 45px;background-color: rgb(237, 237, 237);\"></td><td title=\"Index: [5, 2]&#10;Color: (237, 237, 237)\" style=\"width: 45px; height: 45px;background-color: rgb(237, 237, 237);\"></td><td title=\"Index: [5, 3]&#10;Color: (237, 237, 237)\" style=\"width: 45px; height: 45px;background-color: rgb(237, 237, 237);\"></td><td title=\"Index: [5, 4]&#10;Color: (237, 237, 237)\" style=\"width: 45px; height: 45px;background-color: rgb(237, 237, 237);\"></td><td title=\"Index: [5, 5]&#10;Color: (237, 237, 237)\" style=\"width: 45px; height: 45px;background-color: rgb(237, 237, 237);\"></td><td title=\"Index: [5, 6]&#10;Color: (237, 237, 237)\" style=\"width: 45px; height: 45px;background-color: rgb(237, 237, 237);\"></td><td title=\"Index: [5, 7]&#10;Color: (0, 0, 0)\" style=\"width: 45px; height: 45px;background-color: rgb(0, 0, 0);\"></td></tr><tr><td title=\"Index: [6, 0]&#10;Color: (0, 0, 0)\" style=\"width: 45px; height: 45px;background-color: rgb(0, 0, 0);\"></td><td title=\"Index: [6, 1]&#10;Color: (237, 237, 237)\" style=\"width: 45px; height: 45px;background-color: rgb(237, 237, 237);\"></td><td title=\"Index: [6, 2]&#10;Color: (0, 0, 0)\" style=\"width: 45px; height: 45px;background-color: rgb(0, 0, 0);\"></td><td title=\"Index: [6, 3]&#10;Color: (237, 237, 237)\" style=\"width: 45px; height: 45px;background-color: rgb(237, 237, 237);\"></td><td title=\"Index: [6, 4]&#10;Color: (237, 237, 237)\" style=\"width: 45px; height: 45px;background-color: rgb(237, 237, 237);\"></td><td title=\"Index: [6, 5]&#10;Color: (237, 237, 237)\" style=\"width: 45px; height: 45px;background-color: rgb(237, 237, 237);\"></td><td title=\"Index: [6, 6]&#10;Color: (237, 237, 237)\" style=\"width: 45px; height: 45px;background-color: rgb(237, 237, 237);\"></td><td title=\"Index: [6, 7]&#10;Color: (237, 237, 237)\" style=\"width: 45px; height: 45px;background-color: rgb(237, 237, 237);\"></td></tr><tr><td title=\"Index: [7, 0]&#10;Color: (237, 237, 237)\" style=\"width: 45px; height: 45px;background-color: rgb(237, 237, 237);\"></td><td title=\"Index: [7, 1]&#10;Color: (237, 237, 237)\" style=\"width: 45px; height: 45px;background-color: rgb(237, 237, 237);\"></td><td title=\"Index: [7, 2]&#10;Color: (237, 237, 237)\" style=\"width: 45px; height: 45px;background-color: rgb(237, 237, 237);\"></td><td title=\"Index: [7, 3]&#10;Color: (0, 0, 0)\" style=\"width: 45px; height: 45px;background-color: rgb(0, 0, 0);\"></td><td title=\"Index: [7, 4]&#10;Color: (237, 237, 237)\" style=\"width: 45px; height: 45px;background-color: rgb(237, 237, 237);\"></td><td title=\"Index: [7, 5]&#10;Color: (237, 237, 237)\" style=\"width: 45px; height: 45px;background-color: rgb(237, 237, 237);\"></td><td title=\"Index: [7, 6]&#10;Color: (237, 237, 237)\" style=\"width: 45px; height: 45px;background-color: rgb(237, 237, 237);\"></td><td title=\"Index: [7, 7]&#10;Color: (0, 0, 0)\" style=\"width: 45px; height: 45px;background-color: rgb(0, 0, 0);\"></td></tr></tbody></table>"
      ],
      "text/plain": [
       "<ipythonblocks.ipythonblocks.BlockGrid at 0x7f55d524c670>"
      ]
     },
     "execution_count": 145,
     "metadata": {},
     "output_type": "execute_result"
    }
   ],
   "source": [
    "blanco = (237, 237, 237)\n",
    "tablero = BlockGrid(8, 8, fill=blanco, block_size=45)\n",
    "simulacion(tablero, 400, blanco, time=0.1)\n",
    "tablero"
   ]
  },
  {
   "cell_type": "markdown",
   "id": "1740b9d5",
   "metadata": {},
   "source": [
    "**Proposición**. Sea $(X_n)_{n \\geq 0}$ una cadena de Markov homogénea, irreducible y aperiódica con espacio de estados E y distribución estacionaria $\\pi$, se tiene que cuando $n \\rightarrow \\infty$ ocurre que\n",
    "\n",
    "$$X_n \\xrightarrow{\\text{d}} X$$\n",
    "\n",
    "donde X tiene distribución $\\pi$.\n",
    "\n",
    "Vemos que en nuestro simulación la distribucion estacionario converge a un tablero de ajedrez cuando n toma valores muy grandes."
   ]
  },
  {
   "cell_type": "code",
   "execution_count": 155,
   "id": "c276a93a",
   "metadata": {},
   "outputs": [
    {
     "data": {
      "text/plain": [
       "[<matplotlib.lines.Line2D at 0x7f55d4c3aa10>]"
      ]
     },
     "execution_count": 155,
     "metadata": {},
     "output_type": "execute_result"
    },
    {
     "data": {
      "image/png": "[encoded data removed]",
      "text/plain": [
       "<Figure size 432x288 with 1 Axes>"
      ]
     },
     "metadata": {
      "needs_background": "light"
     },
     "output_type": "display_data"
    }
   ],
   "source": [
    "simulaciones = 500\n",
    "cuadros_negros = []\n",
    "for i in range(simulaciones):\n",
    "    tablero = BlockGrid(8, 8, fill=blanco, block_size=10)    \n",
    "    cuadros_negros.append(simulacion(tablero, i, blanco))\n",
    "x = np.arange(simulaciones)\n",
    "y = np.array(cuadros_negros)\n",
    "plt.plot(x, y)"
   ]
  }
 ],
 "metadata": {
  "kernelspec": {
   "display_name": "Python 3 (ipykernel)",
   "language": "python",
   "name": "python3"
  },
  "language_info": {
   "codemirror_mode": {
    "name": "ipython",
    "version": 3
   },
   "file_extension": ".py",
   "mimetype": "text/x-python",
   "name": "python",
   "nbconvert_exporter": "python",
   "pygments_lexer": "ipython3",
   "version": "3.10.5"
  }
 },
 "nbformat": 4,
 "nbformat_minor": 5
}
